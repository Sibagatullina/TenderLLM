{
 "cells": [
  {
   "cell_type": "code",
   "execution_count": 1,
   "metadata": {},
   "outputs": [],
   "source": [
    "from openai import OpenAI"
   ]
  },
  {
   "cell_type": "code",
   "execution_count": 2,
   "metadata": {},
   "outputs": [],
   "source": [
    "BASE_URL = \"your_llm_url\"\n",
    "\n",
    "openai_api_key = \"EMPTY\""
   ]
  },
  {
   "cell_type": "code",
   "execution_count": 3,
   "metadata": {},
   "outputs": [],
   "source": [
    "client = OpenAI(\n",
    "    api_key=openai_api_key,\n",
    "    base_url=BASE_URL,\n",
    ")"
   ]
  },
  {
   "cell_type": "code",
   "execution_count": 4,
   "metadata": {},
   "outputs": [],
   "source": [
    "LLM_NAME = \"your_llm_name\"\n",
    "\n",
    "chat_response = client.chat.completions.create(\n",
    "    model=LLM_NAME,\n",
    "    messages=[\n",
    "        {\"role\": \"system\", \"content\": \"Ты полезный ассистент.\"},\n",
    "        {\"role\": \"user\", \"content\": \"Расскажи о себе\"}\n",
    "    ]\n",
    ")"
   ]
  },
  {
   "cell_type": "code",
   "execution_count": 5,
   "metadata": {},
   "outputs": [
    {
     "name": "stdout",
     "output_type": "stream",
     "text": [
      "Chat response:  Я — модель искусственного интеллекта, созданная для помощи людям в решении различных задач. Моя цель — облегчить жизнь пользователей и предоставить им необходимую информацию. Я могу отвечать на вопросы, предоставлять информацию по различным темам, помогать в написании текстов и многое другое.\n",
      "\n",
      "Обращайтесь ко мне, чтобы получить помощь в повседневных задачах, я здесь, чтобы облегчить вашу жизнь.\n"
     ]
    }
   ],
   "source": [
    "print(\"Chat response:\", chat_response.choices[0].message.content)"
   ]
  },
  {
   "cell_type": "code",
   "execution_count": null,
   "metadata": {},
   "outputs": [],
   "source": []
  }
 ],
 "metadata": {
  "kernelspec": {
   "display_name": "new_env",
   "language": "python",
   "name": "python3"
  },
  "language_info": {
   "codemirror_mode": {
    "name": "ipython",
    "version": 3
   },
   "file_extension": ".py",
   "mimetype": "text/x-python",
   "name": "python",
   "nbconvert_exporter": "python",
   "pygments_lexer": "ipython3",
   "version": "3.9.19"
  }
 },
 "nbformat": 4,
 "nbformat_minor": 2
}
